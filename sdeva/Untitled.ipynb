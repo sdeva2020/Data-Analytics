{
 "cells": [
  {
   "cell_type": "code",
   "execution_count": null,
   "id": "91fc6baf",
   "metadata": {},
   "outputs": [],
   "source": [
    "a=range(1,10,2)"
   ]
  },
  {
   "cell_type": "code",
   "execution_count": null,
   "id": "7d719038",
   "metadata": {},
   "outputs": [],
   "source": [
    "a"
   ]
  },
  {
   "cell_type": "code",
   "execution_count": null,
   "id": "f1780287",
   "metadata": {},
   "outputs": [],
   "source": [
    "print(a)"
   ]
  },
  {
   "cell_type": "code",
   "execution_count": null,
   "id": "3c676927",
   "metadata": {},
   "outputs": [],
   "source": [
    "print(list(a))"
   ]
  },
  {
   "cell_type": "code",
   "execution_count": null,
   "id": "42659703",
   "metadata": {},
   "outputs": [],
   "source": [
    "deva={1:\"1\",2:\"I\",3:\"Love\",4:\"Myself\"}"
   ]
  },
  {
   "cell_type": "code",
   "execution_count": null,
   "id": "6612160f",
   "metadata": {},
   "outputs": [],
   "source": [
    "deva[2]"
   ]
  },
  {
   "cell_type": "code",
   "execution_count": null,
   "id": "45b1bf2b",
   "metadata": {},
   "outputs": [],
   "source": [
    "deva[1]"
   ]
  },
  {
   "cell_type": "code",
   "execution_count": null,
   "id": "dd41c863",
   "metadata": {},
   "outputs": [],
   "source": [
    "deva[2]"
   ]
  },
  {
   "cell_type": "code",
   "execution_count": null,
   "id": "ad3ff38b",
   "metadata": {},
   "outputs": [],
   "source": [
    "deva[3]"
   ]
  },
  {
   "cell_type": "code",
   "execution_count": null,
   "id": "697146d0",
   "metadata": {},
   "outputs": [],
   "source": [
    "deva[4]"
   ]
  },
  {
   "cell_type": "code",
   "execution_count": null,
   "id": "60176088",
   "metadata": {},
   "outputs": [],
   "source": [
    "type(deva)"
   ]
  },
  {
   "cell_type": "code",
   "execution_count": null,
   "id": "fc525171",
   "metadata": {},
   "outputs": [],
   "source": [
    "print(\"deva[2]:\", deva[2])\n",
    "print(\"deva[3]:\", deva[3])\n",
    "print(\"deva[4]:\", deva[4])"
   ]
  },
  {
   "cell_type": "code",
   "execution_count": null,
   "id": "51d85388",
   "metadata": {},
   "outputs": [],
   "source": [
    "print(f\"deva says {2}{3}{4}\")"
   ]
  },
  {
   "cell_type": "code",
   "execution_count": null,
   "id": "f0e97b65",
   "metadata": {},
   "outputs": [],
   "source": [
    "deva={\"deva\",\"priya\",\"sdeva\",22,29,22}"
   ]
  },
  {
   "cell_type": "code",
   "execution_count": null,
   "id": "2433d8e4",
   "metadata": {},
   "outputs": [],
   "source": [
    "type(deva)"
   ]
  },
  {
   "cell_type": "code",
   "execution_count": null,
   "id": "210dc793",
   "metadata": {},
   "outputs": [],
   "source": [
    "deva"
   ]
  },
  {
   "cell_type": "code",
   "execution_count": null,
   "id": "9093b0f7",
   "metadata": {},
   "outputs": [],
   "source": [
    "timenow=input(\"Un time ah sollu\")\n",
    "\n"
   ]
  },
  {
   "cell_type": "code",
   "execution_count": null,
   "id": "009ad621",
   "metadata": {},
   "outputs": [],
   "source": [
    "time={1:\"WAKE UP\",2:\"BREAKFAST \",3:\"BRUNCH \",4:\"LUNCH \",5:\"SNACK \",6:\"VITU SAPADU \",7:\"DINNER \",8:\"MIDNIGHT SNACKS\",9:\"THINNATHU POTHUM POI THUNGU\"}"
   ]
  },
  {
   "cell_type": "code",
   "execution_count": null,
   "id": "03a8bbc5",
   "metadata": {},
   "outputs": [],
   "source": [
    "if int(timenow)<=6:\n",
    "    print(f\"time is up{time[1]}\")\n",
    "elif int(timenow)<=8:\n",
    "    print(f\"No day enery without your{time[2]}\")\n",
    "elif int(timenow)<=11:\n",
    "    print(f\"Dont wait for lunch have {time[3]}\")\n",
    "elif int(timenow)<=13:\n",
    "    print(f\"have your lunch{time[4]}\")\n",
    "elif int(timenow)<=16:\n",
    "    print(f\"have some healthy food now by{time[5]}\")\n",
    "elif int(timenow)<=18:\n",
    "    print(f\"Dont be late for {time[6]}\")\n",
    "elif int(timenow)<=21:\n",
    "    print(f\"Step slow and dont wake up your parents casue it {time[7]}\")\n",
    "elif int(timenow)<=23:\n",
    "    print(f\"Take rest {time[8]}\")\n"
   ]
  },
  {
   "cell_type": "markdown",
   "id": "182d87cb",
   "metadata": {},
   "source": [
    " LkG admission"
   ]
  },
  {
   "cell_type": "code",
   "execution_count": null,
   "id": "d162acbc",
   "metadata": {},
   "outputs": [],
   "source": [
    "age_limit=5\n",
    "baby=int(input(\"Baby age\"))\n",
    "for Baby_age in range(1,6):\n",
    "    if baby>=age_limit:\n",
    "     print(\"Babies who are below are not allowed\")\n",
    "    else:\n",
    "     print(\"babies are allowed to get admitted\")"
   ]
  },
  {
   "cell_type": "code",
   "execution_count": null,
   "id": "ffdbb36f",
   "metadata": {},
   "outputs": [],
   "source": [
    "num =int (input(\"Enter the number:\"))\n",
    "counter=0\n",
    "a=0\n",
    "b=1\n",
    "print(a)\n",
    "while counter<= num:\n",
    "    c=a+b\n",
    "    a=b\n",
    "    b=c\n",
    "    print(c)\n",
    "    counter+=1"
   ]
  },
  {
   "cell_type": "code",
   "execution_count": null,
   "id": "ef2632ef",
   "metadata": {},
   "outputs": [],
   "source": [
    "\n"
   ]
  }
 ],
 "metadata": {
  "kernelspec": {
   "display_name": "Python 3 (ipykernel)",
   "language": "python",
   "name": "python3"
  },
  "language_info": {
   "codemirror_mode": {
    "name": "ipython",
    "version": 3
   },
   "file_extension": ".py",
   "mimetype": "text/x-python",
   "name": "python",
   "nbconvert_exporter": "python",
   "pygments_lexer": "ipython3",
   "version": "3.10.8"
  }
 },
 "nbformat": 4,
 "nbformat_minor": 5
}
