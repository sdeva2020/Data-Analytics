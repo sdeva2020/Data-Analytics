{
 "cells": [
  {
   "cell_type": "code",
   "execution_count": null,
   "id": "42b270c2",
   "metadata": {},
   "outputs": [],
   "source": [
    "import numpy"
   ]
  },
  {
   "cell_type": "code",
   "execution_count": null,
   "id": "49336058",
   "metadata": {},
   "outputs": [],
   "source": [
    "pip install numpy"
   ]
  },
  {
   "cell_type": "code",
   "execution_count": 1,
   "id": "5b600e89",
   "metadata": {},
   "outputs": [],
   "source": [
    "import numpy"
   ]
  },
  {
   "cell_type": "code",
   "execution_count": 2,
   "id": "b0c84e57",
   "metadata": {},
   "outputs": [],
   "source": [
    "import numpy as np"
   ]
  },
  {
   "cell_type": "code",
   "execution_count": 22,
   "id": "da2da1f5",
   "metadata": {},
   "outputs": [],
   "source": [
    "a=np.array([(1,2,3,4),(4,5,6,6)])"
   ]
  },
  {
   "cell_type": "code",
   "execution_count": 24,
   "id": "74a8065d",
   "metadata": {},
   "outputs": [
    {
     "name": "stdout",
     "output_type": "stream",
     "text": [
      "[[1 2 3 4]\n",
      " [4 5 6 6]]\n"
     ]
    }
   ],
   "source": [
    "print(a)"
   ]
  },
  {
   "cell_type": "code",
   "execution_count": 7,
   "id": "fd140990",
   "metadata": {},
   "outputs": [],
   "source": [
    "c=np.transpose(a)"
   ]
  },
  {
   "cell_type": "code",
   "execution_count": 9,
   "id": "a9ba3628",
   "metadata": {},
   "outputs": [
    {
     "name": "stdout",
     "output_type": "stream",
     "text": [
      "[[1 4]\n",
      " [2 5]\n",
      " [3 6]]\n"
     ]
    }
   ],
   "source": [
    "print(c)"
   ]
  },
  {
   "cell_type": "code",
   "execution_count": 10,
   "id": "5dc99c44",
   "metadata": {},
   "outputs": [
    {
     "data": {
      "text/plain": [
       "array([1, 4, 2, 5, 3, 6])"
      ]
     },
     "execution_count": 10,
     "metadata": {},
     "output_type": "execute_result"
    }
   ],
   "source": [
    "c.ravel()"
   ]
  },
  {
   "cell_type": "code",
   "execution_count": 11,
   "id": "4e018037",
   "metadata": {},
   "outputs": [
    {
     "data": {
      "text/plain": [
       "array([1, 2, 3, 4, 5, 6])"
      ]
     },
     "execution_count": 11,
     "metadata": {},
     "output_type": "execute_result"
    }
   ],
   "source": [
    "a.ravel()"
   ]
  },
  {
   "cell_type": "code",
   "execution_count": 27,
   "id": "ab6d062e",
   "metadata": {},
   "outputs": [
    {
     "data": {
      "text/plain": [
       "array([[1, 2],\n",
       "       [3, 4],\n",
       "       [4, 5],\n",
       "       [6, 6]])"
      ]
     },
     "execution_count": 27,
     "metadata": {},
     "output_type": "execute_result"
    }
   ],
   "source": [
    "a.reshape(4,2)"
   ]
  },
  {
   "cell_type": "code",
   "execution_count": 35,
   "id": "ef534b96",
   "metadata": {},
   "outputs": [],
   "source": [
    "ze=np.ones((10,12))"
   ]
  },
  {
   "cell_type": "code",
   "execution_count": 36,
   "id": "5d54a336",
   "metadata": {},
   "outputs": [
    {
     "name": "stdout",
     "output_type": "stream",
     "text": [
      "[[1. 1. 1. 1. 1. 1. 1. 1. 1. 1. 1. 1.]\n",
      " [1. 1. 1. 1. 1. 1. 1. 1. 1. 1. 1. 1.]\n",
      " [1. 1. 1. 1. 1. 1. 1. 1. 1. 1. 1. 1.]\n",
      " [1. 1. 1. 1. 1. 1. 1. 1. 1. 1. 1. 1.]\n",
      " [1. 1. 1. 1. 1. 1. 1. 1. 1. 1. 1. 1.]\n",
      " [1. 1. 1. 1. 1. 1. 1. 1. 1. 1. 1. 1.]\n",
      " [1. 1. 1. 1. 1. 1. 1. 1. 1. 1. 1. 1.]\n",
      " [1. 1. 1. 1. 1. 1. 1. 1. 1. 1. 1. 1.]\n",
      " [1. 1. 1. 1. 1. 1. 1. 1. 1. 1. 1. 1.]\n",
      " [1. 1. 1. 1. 1. 1. 1. 1. 1. 1. 1. 1.]]\n"
     ]
    }
   ],
   "source": [
    "print(ze)"
   ]
  },
  {
   "cell_type": "code",
   "execution_count": 38,
   "id": "ff5f5a30",
   "metadata": {},
   "outputs": [
    {
     "data": {
      "text/plain": [
       "array([[0.1931191 , 0.96358522, 0.34923211, 0.79560092, 0.65758063,\n",
       "        0.078073  , 0.92780574, 0.58849665, 0.64065396, 0.53952782,\n",
       "        0.38794443, 0.73964524],\n",
       "       [0.84433237, 0.77117438, 0.01510275, 0.55010493, 0.73785936,\n",
       "        0.3625501 , 0.96212022, 0.88534962, 0.67063273, 0.38066262,\n",
       "        0.41358532, 0.38286223],\n",
       "       [0.50282744, 0.81701072, 0.25971985, 0.44155165, 0.92083184,\n",
       "        0.07598567, 0.08979236, 0.20307513, 0.04094825, 0.813563  ,\n",
       "        0.6462199 , 0.10497226],\n",
       "       [0.7719253 , 0.84322125, 0.72632545, 0.21520839, 0.85187705,\n",
       "        0.87546818, 0.32450751, 0.16458421, 0.38218753, 0.67557881,\n",
       "        0.46633717, 0.34586839],\n",
       "       [0.2858296 , 0.87872582, 0.80288816, 0.07318381, 0.78128085,\n",
       "        0.09829224, 0.73162538, 0.80129717, 0.02335463, 0.27049114,\n",
       "        0.79385726, 0.17596987],\n",
       "       [0.1159478 , 0.52961474, 0.38919807, 0.76977233, 0.00501489,\n",
       "        0.25569448, 0.55829536, 0.94412559, 0.18540043, 0.44898305,\n",
       "        0.35363171, 0.51170796],\n",
       "       [0.13856515, 0.38403255, 0.64556408, 0.68150369, 0.1595315 ,\n",
       "        0.65491839, 0.26571807, 0.9014551 , 0.02415104, 0.62462293,\n",
       "        0.25746188, 0.98149826],\n",
       "       [0.05396118, 0.30618969, 0.52494792, 0.43179265, 0.68148831,\n",
       "        0.53172685, 0.13322613, 0.85399898, 0.96857391, 0.85402128,\n",
       "        0.62831709, 0.01230498],\n",
       "       [0.76136342, 0.73486364, 0.83116257, 0.52644513, 0.50587212,\n",
       "        0.68882147, 0.31835407, 0.05668583, 0.16493887, 0.79738357,\n",
       "        0.61875168, 0.14859649],\n",
       "       [0.07643713, 0.83434278, 0.48849537, 0.42260152, 0.21629924,\n",
       "        0.10369442, 0.03989392, 0.50495793, 0.7117908 , 0.81266887,\n",
       "        0.48444241, 0.94854196]])"
      ]
     },
     "execution_count": 38,
     "metadata": {},
     "output_type": "execute_result"
    }
   ],
   "source": [
    "np.random.random((10,12))"
   ]
  },
  {
   "cell_type": "code",
   "execution_count": null,
   "id": "fef3717a",
   "metadata": {},
   "outputs": [],
   "source": []
  }
 ],
 "metadata": {
  "kernelspec": {
   "display_name": "Python 3 (ipykernel)",
   "language": "python",
   "name": "python3"
  },
  "language_info": {
   "codemirror_mode": {
    "name": "ipython",
    "version": 3
   },
   "file_extension": ".py",
   "mimetype": "text/x-python",
   "name": "python",
   "nbconvert_exporter": "python",
   "pygments_lexer": "ipython3",
   "version": "3.10.8"
  }
 },
 "nbformat": 4,
 "nbformat_minor": 5
}
